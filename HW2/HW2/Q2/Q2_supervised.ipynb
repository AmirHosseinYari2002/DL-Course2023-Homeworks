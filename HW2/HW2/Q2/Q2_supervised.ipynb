{
  "cells": [
    {
      "cell_type": "code",
      "execution_count": 1,
      "metadata": {
        "id": "WJGnGpmxF1Qs"
      },
      "outputs": [],
      "source": [
        "import matplotlib.pyplot as plt\n",
        "import torch\n",
        "import torch.nn as nn\n",
        "from tqdm import tqdm\n",
        "from torch.optim import Adam\n",
        "from torchvision.datasets import MNIST\n",
        "from torchvision.transforms import Compose, ToTensor, Normalize, Lambda\n",
        "from torch.utils.data import DataLoader"
      ]
    },
    {
      "cell_type": "code",
      "execution_count": 6,
      "metadata": {
        "id": "QOv9clI3F6RM"
      },
      "outputs": [],
      "source": [
        "def MNIST_loaders(train_batch_size=6000, test_batch_size=1000):\n",
        "    # Define a series of image transformations using Compose\n",
        "    transform = Compose([\n",
        "        # Convert images to PyTorch tensors\n",
        "        ToTensor(),\n",
        "        # Normalize the pixel values of the images\n",
        "        Normalize((0.1307,), (0.3081,)),\n",
        "        # Flatten the image tensors\n",
        "        Lambda(lambda x: torch.flatten(x))])\n",
        "    # Create a DataLoader for the training set\n",
        "    train_loader = DataLoader(\n",
        "        MNIST('./data/', train=True,\n",
        "              download=True,\n",
        "              transform=transform),\n",
        "        batch_size=train_batch_size, shuffle=True)\n",
        "\n",
        "    # Create a DataLoader for the test set\n",
        "    test_loader = DataLoader(\n",
        "        MNIST('./data/', train=False,\n",
        "              download=True,\n",
        "              transform=transform),\n",
        "        batch_size=test_batch_size, shuffle=False)\n",
        "\n",
        "    return train_loader, test_loader\n",
        "\n",
        "def overlay_y_on_x(x, y):\n",
        "    x_ = x.clone()\n",
        "    # Set the first 10 pixels of each sample to 0\n",
        "    x_[:, :10] *= 0.0\n",
        "    # Set the value of the one-hot-encoded label [y] at the corresponding position\n",
        "    x_[range(x.shape[0]), y] = x.max()\n",
        "    return x_\n",
        "\n",
        "# Plot a sample data\n",
        "def visualize_sample(data, name='', idx=0):\n",
        "    reshaped = data[idx].reshape(28, 28)\n",
        "    plt.figure(figsize = (4, 4))\n",
        "    plt.title(name)\n",
        "    plt.imshow(reshaped, cmap=\"gray\")\n",
        "    plt.show()"
      ]
    },
    {
      "cell_type": "code",
      "execution_count": 3,
      "metadata": {
        "id": "RGR5OOBk6vMR"
      },
      "outputs": [],
      "source": [
        "class Layer(nn.Linear):\n",
        "    def __init__(self, in_features, out_features,\n",
        "                 bias=True, device=None, dtype=None):\n",
        "        super().__init__(in_features, out_features, bias, device, dtype)\n",
        "        # Create a ReLU activation function\n",
        "        self.relu = torch.nn.ReLU()\n",
        "        # Initialize an Adam optimizer with a learning rate of 0.03 for the layer parameters\n",
        "        self.opt = Adam(self.parameters(), lr=0.01)\n",
        "        # Set a threshold value for the layer\n",
        "        self.threshold = 2.0\n",
        "        # Set the number of training epochs\n",
        "        self.num_epochs = 1000\n",
        "\n",
        "    def forward(self, x):\n",
        "        # Normalize the input data along each sample's direction\n",
        "        x_direction = x / (x.norm(2, 1, keepdim=True) + 1e-4)\n",
        "        # Perform the forward pass through the layer using ReLU activation\n",
        "        return self.relu(\n",
        "            torch.mm(x_direction, self.weight.T) +\n",
        "            self.bias.unsqueeze(0))\n",
        "\n",
        "    def train(self, x_pos, x_neg):\n",
        "        for i in tqdm(range(self.num_epochs)):\n",
        "            # Calculate squared activations for positive and negative samples\n",
        "            g_pos = self.forward(x_pos).pow(2).mean(1)\n",
        "            g_neg = self.forward(x_neg).pow(2).mean(1)\n",
        "            # Formulate a loss function to push positive samples towards values larger\n",
        "            # and negative samples towards values smaller than the threshold\n",
        "            loss = torch.log(1 + torch.exp(torch.cat([\n",
        "                -g_pos + self.threshold,\n",
        "                g_neg - self.threshold]))).mean()\n",
        "            # Zero the gradients of the optimizer\n",
        "            self.opt.zero_grad()\n",
        "            # Perform backward pass to compute derivatives (not considered backpropagation)\n",
        "            loss.backward()\n",
        "            # Update the parameters of the layer using the optimizer\n",
        "            self.opt.step()\n",
        "        return self.forward(x_pos).detach(), self.forward(x_neg).detach()"
      ]
    },
    {
      "cell_type": "code",
      "execution_count": 4,
      "metadata": {
        "id": "k_0Dd_ttF85h"
      },
      "outputs": [],
      "source": [
        "class Net(torch.nn.Module):\n",
        "\n",
        "    def __init__(self, dims):\n",
        "        super().__init__()\n",
        "        # Initialize a list to store the layers of the neural network\n",
        "        self.layers = []\n",
        "        # Iterate over the dimensions and create Layer instances for each pair of consecutive dimensions\n",
        "        for d in range(len(dims) - 1):\n",
        "            self.layers += [Layer(dims[d], dims[d + 1])]\n",
        "\n",
        "    def predict(self, x):\n",
        "        # Initialize a list to store goodness values for each label\n",
        "        goodness_per_label = []\n",
        "        for label in range(10):\n",
        "            # Overlay the input data with the one-hot-encoded label\n",
        "            h = overlay_y_on_x(x, label)\n",
        "            goodness = []\n",
        "            for layer in self.layers:\n",
        "                # Pass the data through the layer and calculate squared activations\n",
        "                h = layer(h)\n",
        "                goodness += [h.pow(2).mean(1)]\n",
        "            goodness_per_label += [sum(goodness).unsqueeze(1)]\n",
        "        # Concatenate the goodness values for each label along dimension 1\n",
        "        goodness_per_label = torch.cat(goodness_per_label, 1)\n",
        "        return goodness_per_label.argmax(1)\n",
        "\n",
        "    def train(self, x_pos, x_neg):\n",
        "        h_pos, h_neg = x_pos, x_neg\n",
        "        for i, layer in enumerate(self.layers):\n",
        "            print(f'Training Layer {i + 1}/{len(self.layers)} - Input Size: {layer.in_features}, Output Size: {layer.out_features}')\n",
        "            # Train the current layer and update positive and negative samples\n",
        "            h_pos, h_neg = layer.train(h_pos, h_neg)"
      ]
    },
    {
      "cell_type": "code",
      "execution_count": 7,
      "metadata": {
        "colab": {
          "base_uri": "https://localhost:8080/",
          "height": 1000
        },
        "id": "GjECuxIgF0hk",
        "outputId": "0efa3e56-82b3-410a-8eae-e576c8233f03"
      },
      "outputs": [
        {
          "output_type": "display_data",
          "data": {
            "text/plain": [
              "<Figure size 400x400 with 1 Axes>"
            ],
            "image/png": "[encoded data removed]"
          },
          "metadata": {}
        },
        {
          "output_type": "display_data",
          "data": {
            "text/plain": [
              "<Figure size 400x400 with 1 Axes>"
            ],
            "image/png": "[encoded data removed]"
          },
          "metadata": {}
        },
        {
          "output_type": "display_data",
          "data": {
            "text/plain": [
              "<Figure size 400x400 with 1 Axes>"
            ],
            "image/png": "[encoded data removed]"
          },
          "metadata": {}
        },
        {
          "output_type": "stream",
          "name": "stdout",
          "text": [
            "Training Layer 1/2 - Input Size: 784, Output Size: 500\n"
          ]
        },
        {
          "output_type": "stream",
          "name": "stderr",
          "text": [
            "100%|██████████| 1000/1000 [05:44<00:00,  2.90it/s]\n"
          ]
        },
        {
          "output_type": "stream",
          "name": "stdout",
          "text": [
            "Training Layer 2/2 - Input Size: 500, Output Size: 500\n"
          ]
        },
        {
          "output_type": "stream",
          "name": "stderr",
          "text": [
            "100%|██████████| 1000/1000 [03:53<00:00,  4.29it/s]\n"
          ]
        },
        {
          "output_type": "stream",
          "name": "stdout",
          "text": [
            "\n",
            "Training Error: 0.1167\n",
            "Number of Correct Predictions: 5300/6000\n",
            "Accuracy: 88.33%\n",
            "Test Error: 0.1440\n",
            "Number of Correct Predictions: 856/1000\n",
            "Accuracy: 85.60%\n"
          ]
        }
      ],
      "source": [
        "if __name__ == \"__main__\":\n",
        "    # Set a fixed seed for reproducibility\n",
        "    torch.manual_seed(1)\n",
        "\n",
        "    # Load training and test data using MNIST loaders\n",
        "    train_loader, test_loader = MNIST_loaders()\n",
        "\n",
        "    # Load training and test data using MNIST loaders\n",
        "    net = Net([784, 500, 500])\n",
        "\n",
        "    # Extract a batch of training data\n",
        "    x, y = next(iter(train_loader))\n",
        "    x, y = x, y\n",
        "\n",
        "    # Overlay the input data with one-hot-encoded labels for positive samples\n",
        "    x_pos = overlay_y_on_x(x, y)\n",
        "\n",
        "    # Create negative samples by overlaying input data with randomly permuted labels\n",
        "    rnd = torch.randperm(x.size(0))\n",
        "    x_neg = overlay_y_on_x(x, y[rnd])\n",
        "\n",
        "    # Visualize the original, positive, and negative samples\n",
        "    for data, name in zip([x, x_pos, x_neg], ['Original', 'Positive', 'Negative']):\n",
        "        visualize_sample(data, name)\n",
        "\n",
        "    # Train the neural network using positive and negative samples\n",
        "    net.train(x_pos, x_neg)\n",
        "\n",
        "    # Calculate the training error\n",
        "    prediction = net.predict(x)\n",
        "    correct_predictions = prediction.eq(y).float()\n",
        "    accuracy = correct_predictions.mean().item()\n",
        "    training_error = 1.0 - accuracy\n",
        "\n",
        "    # Print the training error with detailed information\n",
        "    print(f'\\nTraining Error: {training_error:.4f}')\n",
        "    print(f'Number of Correct Predictions: {int(correct_predictions.sum())}/{len(y)}')\n",
        "    print(f'Accuracy: {accuracy:.2%}')\n",
        "\n",
        "    # Extract a batch of test data\n",
        "    x_te, y_te = next(iter(test_loader))\n",
        "    x_te, y_te = x_te, y_te\n",
        "\n",
        "    # Calculate the test error\n",
        "    test_prediction = net.predict(x_te)\n",
        "    test_correct_predictions = test_prediction.eq(y_te).float()\n",
        "    test_accuracy = test_correct_predictions.mean().item()\n",
        "    test_error = 1.0 - test_accuracy\n",
        "\n",
        "    # Print the test error with detailed information\n",
        "    print(f'Test Error: {test_error:.4f}')\n",
        "    print(f'Number of Correct Predictions: {int(test_correct_predictions.sum())}/{len(y_te)}')\n",
        "    print(f'Accuracy: {test_accuracy:.2%}')\n"
      ]
    }
  ],
  "metadata": {
    "colab": {
      "provenance": [],
      "gpuType": "T4"
    },
    "kernelspec": {
      "display_name": "Python 3",
      "name": "python3"
    },
    "language_info": {
      "codemirror_mode": {
        "name": "ipython",
        "version": 3
      },
      "file_extension": ".py",
      "mimetype": "text/x-python",
      "name": "python",
      "nbconvert_exporter": "python",
      "pygments_lexer": "ipython3",
      "version": "3.11.4"
    },
    "accelerator": "GPU"
  },
  "nbformat": 4,
  "nbformat_minor": 0
}