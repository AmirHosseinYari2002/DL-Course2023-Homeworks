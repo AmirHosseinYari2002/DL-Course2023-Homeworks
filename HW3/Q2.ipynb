{
  "nbformat": 4,
  "nbformat_minor": 0,
  "metadata": {
    "colab": {
      "provenance": [],
      "gpuType": "T4"
    },
    "kernelspec": {
      "name": "python3",
      "display_name": "Python 3"
    },
    "language_info": {
      "name": "python"
    },
    "accelerator": "GPU"
  },
  "cells": [
    {
      "cell_type": "code",
      "source": [
        "# Import Required Packages\n",
        "import torch\n",
        "import torchvision\n",
        "from torchvision import transforms\n",
        "from pycocotools.coco import COCO\n",
        "import torch.nn as nn\n",
        "import numpy as np\n",
        "import torch.nn.functional as F\n",
        "import fiftyone.zoo as foz\n",
        "from torchvision.io.image import read_image\n",
        "from torchvision.ops import deform_conv2d\n",
        "from torch.utils.data import DataLoader\n",
        "from torchvision.io import read_image\n",
        "from torch.utils.data import Dataset\n",
        "from torch.optim import Adam\n",
        "from torchvision.transforms import ToTensor\n",
        "from torchvision.io import read_image\n",
        "from torchvision.transforms.functional import to_pil_image, to_grayscale, to_tensor\n",
        "import torchvision.ops\n",
        "import torch.optim as optim\n",
        "import torchvision.transforms as transforms\n",
        "from PIL import Image\n",
        "import matplotlib.pyplot as plt"
      ],
      "metadata": {
        "id": "lKaNNaoPLTBr"
      },
      "execution_count": 29,
      "outputs": []
    },
    {
      "cell_type": "code",
      "source": [
        "class DeformableConv2d(nn.Module):\n",
        "    def __init__(self, in_channels, out_channels, kernel_size=3, stride=1, padding=1, bias=False):\n",
        "        super(DeformableConv2d, self).__init__()\n",
        "        self.padding = padding\n",
        "\n",
        "        # Offset convolution layer to learn the offsets of the sampling locations\n",
        "        self.offset_conv = nn.Conv2d(in_channels, 2 * kernel_size * kernel_size, kernel_size=kernel_size, stride=stride, padding=self.padding, bias=True)\n",
        "\n",
        "        # Initialize weights and bias of offset convolution to 0\n",
        "        nn.init.constant_(self.offset_conv.weight, 0.)\n",
        "        nn.init.constant_(self.offset_conv.bias, 0.)\n",
        "\n",
        "        # Modulator convolution layer to learn the modulation scalars of the sampling locations\n",
        "        self.modulator_conv = nn.Conv2d(in_channels, 1 * kernel_size * kernel_size, kernel_size=kernel_size, stride=stride, padding=self.padding, bias=True)\n",
        "\n",
        "        # Initialize weights and bias of modulator convolution to 0\n",
        "        nn.init.constant_(self.modulator_conv.weight, 0.)\n",
        "        nn.init.constant_(self.modulator_conv.bias, 0.)\n",
        "\n",
        "        # Regular convolution layer\n",
        "        self.regular_conv = nn.Conv2d(in_channels=in_channels, out_channels=out_channels, kernel_size=kernel_size, stride=stride, padding=self.padding, bias=bias)\n",
        "\n",
        "    def forward(self, x):\n",
        "        h, w = x.shape[2:]  # Height and width of the input\n",
        "        max_offset = max(h, w)/4.\n",
        "\n",
        "        # Compute offset and clamp it within the range [-max_offset, max_offset]\n",
        "        offset = self.offset_conv(x).clamp(-max_offset, max_offset)\n",
        "\n",
        "        # Compute modulator and apply sigmoid function scaled by 2\n",
        "        modulator = 2. * torch.sigmoid(self.modulator_conv(x))\n",
        "\n",
        "        # Apply deformable convolution\n",
        "        x = torchvision.ops.deform_conv2d(input=x, offset=offset, weight=self.regular_conv.weight, bias=self.regular_conv.bias, padding=self.padding, mask=modulator)\n",
        "\n",
        "        return x\n"
      ],
      "metadata": {
        "id": "kwl72sm3Li-X"
      },
      "execution_count": 19,
      "outputs": []
    },
    {
      "cell_type": "code",
      "source": [
        "# Define the CNN model\n",
        "class MyCNN(nn.Module):\n",
        "    def __init__(self, classes):\n",
        "        super(MyCNN, self).__init__()\n",
        "\n",
        "        # First convolutional layer with 3 input channels and 32 output channels\n",
        "        self.conv1 = nn.Conv2d(3, 32, kernel_size=3, stride=1, padding=1, bias=True)\n",
        "        # Second convolutional layer with 32 input channels and 32 output channels\n",
        "        self.conv2 = nn.Conv2d(32, 32, kernel_size=3, stride=1, padding=1, bias=True)\n",
        "        # Third convolutional layer with 32 input channels and 32 output channels\n",
        "        self.conv3 = nn.Conv2d(32, 32, kernel_size=3, stride=1, padding=1, bias=True)\n",
        "        # Fourth convolutional layer, a deformable convolutional layer\n",
        "        self.conv4 = DeformableConv2d(32, 32, kernel_size=3, stride=1, padding=1, bias=True)\n",
        "        # Fifth convolutional layer, a deformable convolutional layer\n",
        "        self.conv5 = DeformableConv2d(32, 32, kernel_size=3, stride=1, padding=1, bias=True)\n",
        "        # Max pooling layer with a kernel size of 2\n",
        "        self.pool = nn.MaxPool2d(2)\n",
        "        # Global average pooling layer to reduce each channel to a single value\n",
        "        self.gap = nn.AdaptiveAvgPool2d((1, 1))\n",
        "        # Fully connected layer with an output size equal to the number of classes\n",
        "        self.fc = nn.Linear(32, len(classes))\n",
        "\n",
        "    def forward(self, x):\n",
        "          # Apply the first convolutional layer followed by ReLU activation function\n",
        "          x = torch.relu(self.conv1(x))\n",
        "          # Apply max pooling\n",
        "          x = self.pool(x) # [112, 112]\n",
        "          # Apply the second convolutional layer followed by ReLU activation function\n",
        "          x = torch.relu(self.conv2(x))\n",
        "          # Apply max pooling\n",
        "          x = self.pool(x) # [56, 56]\n",
        "          # Apply the third, fourth, and fifth convolutional layers followed by ReLU activation function\n",
        "          x = torch.relu(self.conv3(x))\n",
        "          x = torch.relu(self.conv4(x))\n",
        "          x = torch.relu(self.conv5(x))\n",
        "          # Apply global average pooling\n",
        "          x = self.gap(x)\n",
        "          # Flatten the tensor from the second dimension\n",
        "          x = x.flatten(start_dim=1)\n",
        "          # Apply the fully connected layer\n",
        "          x = self.fc(x)\n",
        "          return x"
      ],
      "metadata": {
        "id": "pWZC0XNQUrhH"
      },
      "execution_count": 34,
      "outputs": []
    },
    {
      "cell_type": "code",
      "source": [
        "class COCO(Dataset):\n",
        "    def __init__(self, datasets, classes, transforms=None):\n",
        "        # Initialize the dataset, classes, and transforms\n",
        "        self.dataset = datasets\n",
        "        self.classes = classes\n",
        "        self.transform = transforms\n",
        "\n",
        "    def __len__(self):\n",
        "        # Return the length of the dataset\n",
        "        return len(self.dataset)\n",
        "\n",
        "    def __getitem__(self, idx):\n",
        "        # Get a sample from the dataset\n",
        "        sample = self.dataset[idx]\n",
        "        # Open the image file associated with the sample and convert it to RGB\n",
        "        image = Image.open(sample.filepath).convert('RGB')\n",
        "\n",
        "        # Initialize the label to a zero vector\n",
        "        label = np.zeros(len(self.classes), dtype=np.float32)\n",
        "\n",
        "        # Assign 1 to the positions of the classes present in the image\n",
        "        for detection in sample.ground_truth.detections:\n",
        "            if detection.label in classes:\n",
        "                label[classes.index(detection.label)] = 1.0\n",
        "        # Apply the transforms to the image\n",
        "        image = self.transform(image)\n",
        "\n",
        "        # Convert the label to a PyTorch tensor\n",
        "        label = torch.tensor(label, dtype=torch.float64)\n",
        "\n",
        "        # Return the transformed image and the label\n",
        "        return image, label"
      ],
      "metadata": {
        "id": "KYMCvmLJ4AEt"
      },
      "execution_count": 21,
      "outputs": []
    },
    {
      "cell_type": "code",
      "source": [
        "# Define the classes for which we want to load the data\n",
        "classes = ['bicycle', 'car', 'cat', 'chair', 'cow', 'dog', 'horse', 'person', 'sheep']\n",
        "\n",
        "# Load the training dataset from the COCO 2017 dataset in the FiftyOne Dataset Zoo\n",
        "# The data includes segmentations labels\n",
        "dataset_train = foz.load_zoo_dataset(\n",
        "    \"coco-2017\",\n",
        "    split=\"train\",\n",
        "    label_types=[\"segmentations\"],\n",
        "    classes=classes,\n",
        "    max_samples=20000,\n",
        ")\n",
        "# Convert the dataset to a list for further processing\n",
        "dataset_train = list(dataset_train)\n",
        "\n",
        "# Similarly, load the validation dataset from the COCO 2017 dataset in the FiftyOne Dataset Zoo\n",
        "# The data includes segmentations labels\n",
        "dataset_test = foz.load_zoo_dataset(\n",
        "    \"coco-2017\",\n",
        "    split=\"validation\",\n",
        "    label_types=[\"segmentations\"],\n",
        "    classes=classes,\n",
        "    max_samples=2000,\n",
        ")\n",
        "# Convert the dataset to a list for further processing\n",
        "dataset_test = list(dataset_test)"
      ],
      "metadata": {
        "id": "GREnj_vNMiDe",
        "colab": {
          "base_uri": "https://localhost:8080/"
        },
        "outputId": "7edb2a91-a9b4-4002-f3f4-6b839cc1757d"
      },
      "execution_count": 22,
      "outputs": [
        {
          "output_type": "stream",
          "name": "stdout",
          "text": [
            "Downloading split 'train' to '/root/fiftyone/coco-2017/train' if necessary\n"
          ]
        },
        {
          "output_type": "stream",
          "name": "stderr",
          "text": [
            "INFO:fiftyone.zoo.datasets:Downloading split 'train' to '/root/fiftyone/coco-2017/train' if necessary\n"
          ]
        },
        {
          "output_type": "stream",
          "name": "stdout",
          "text": [
            "Found annotations at '/root/fiftyone/coco-2017/raw/instances_train2017.json'\n"
          ]
        },
        {
          "output_type": "stream",
          "name": "stderr",
          "text": [
            "INFO:fiftyone.utils.coco:Found annotations at '/root/fiftyone/coco-2017/raw/instances_train2017.json'\n"
          ]
        },
        {
          "output_type": "stream",
          "name": "stdout",
          "text": [
            "Sufficient images already downloaded\n"
          ]
        },
        {
          "output_type": "stream",
          "name": "stderr",
          "text": [
            "INFO:fiftyone.utils.coco:Sufficient images already downloaded\n"
          ]
        },
        {
          "output_type": "stream",
          "name": "stdout",
          "text": [
            "Existing download of split 'train' is sufficient\n"
          ]
        },
        {
          "output_type": "stream",
          "name": "stderr",
          "text": [
            "INFO:fiftyone.zoo.datasets:Existing download of split 'train' is sufficient\n"
          ]
        },
        {
          "output_type": "stream",
          "name": "stdout",
          "text": [
            "Loading existing dataset 'coco-2017-train-20000'. To reload from disk, either delete the existing dataset or provide a custom `dataset_name` to use\n"
          ]
        },
        {
          "output_type": "stream",
          "name": "stderr",
          "text": [
            "INFO:fiftyone.zoo.datasets:Loading existing dataset 'coco-2017-train-20000'. To reload from disk, either delete the existing dataset or provide a custom `dataset_name` to use\n"
          ]
        },
        {
          "output_type": "stream",
          "name": "stdout",
          "text": [
            "Downloading split 'validation' to '/root/fiftyone/coco-2017/validation' if necessary\n"
          ]
        },
        {
          "output_type": "stream",
          "name": "stderr",
          "text": [
            "INFO:fiftyone.zoo.datasets:Downloading split 'validation' to '/root/fiftyone/coco-2017/validation' if necessary\n"
          ]
        },
        {
          "output_type": "stream",
          "name": "stdout",
          "text": [
            "Found annotations at '/root/fiftyone/coco-2017/raw/instances_val2017.json'\n"
          ]
        },
        {
          "output_type": "stream",
          "name": "stderr",
          "text": [
            "INFO:fiftyone.utils.coco:Found annotations at '/root/fiftyone/coco-2017/raw/instances_val2017.json'\n"
          ]
        },
        {
          "output_type": "stream",
          "name": "stdout",
          "text": [
            "Sufficient images already downloaded\n"
          ]
        },
        {
          "output_type": "stream",
          "name": "stderr",
          "text": [
            "INFO:fiftyone.utils.coco:Sufficient images already downloaded\n"
          ]
        },
        {
          "output_type": "stream",
          "name": "stdout",
          "text": [
            "Existing download of split 'validation' is sufficient\n"
          ]
        },
        {
          "output_type": "stream",
          "name": "stderr",
          "text": [
            "INFO:fiftyone.zoo.datasets:Existing download of split 'validation' is sufficient\n"
          ]
        },
        {
          "output_type": "stream",
          "name": "stdout",
          "text": [
            "Loading existing dataset 'coco-2017-validation-2000'. To reload from disk, either delete the existing dataset or provide a custom `dataset_name` to use\n"
          ]
        },
        {
          "output_type": "stream",
          "name": "stderr",
          "text": [
            "INFO:fiftyone.zoo.datasets:Loading existing dataset 'coco-2017-validation-2000'. To reload from disk, either delete the existing dataset or provide a custom `dataset_name` to use\n"
          ]
        }
      ]
    },
    {
      "cell_type": "code",
      "source": [
        "# Check if CUDA is available and set the device to GPU if it is, else use CPU\n",
        "device = torch.device(\"cuda:0\" if torch.cuda.is_available() else \"cpu\")\n",
        "\n",
        "# Define the transformations to be applied on the images\n",
        "# Resize the images to 224x224, convert them to tensors, and normalize them\n",
        "transforms = transforms.Compose([\n",
        "    transforms.Resize((224, 224)),\n",
        "    transforms.ToTensor(),\n",
        "    transforms.Normalize((0.485, 0.456, 0.406), (0.229, 0.224, 0.225))\n",
        "])\n",
        "\n",
        "# Create a COCO dataset for the training data\n",
        "# Apply the defined transformations on the dataset\n",
        "trainset = COCO(datasets=dataset_train, classes=classes, transforms=transforms)\n",
        "\n",
        "# Create a DataLoader for the training dataset\n",
        "# Set the batch size to 128 and shuffle the data\n",
        "trainloader = torch.utils.data.DataLoader(trainset, batch_size=128, shuffle=True)\n",
        "\n",
        "# Similarly, create a COCO dataset for the test data and apply the transformations\n",
        "testset = COCO(datasets=dataset_test, classes=classes, transforms=transforms)\n",
        "\n",
        "# Create a DataLoader for the test dataset\n",
        "# Set the batch size to 32 and do not shuffle the data\n",
        "testloader = torch.utils.data.DataLoader(testset, batch_size=32, shuffle=False)\n"
      ],
      "metadata": {
        "id": "Jt9ovg4lP8_G"
      },
      "execution_count": 23,
      "outputs": []
    },
    {
      "cell_type": "code",
      "source": [
        "# Instantiate the model\n",
        "model = MyCNN(classes).to(device)\n",
        "\n",
        "# Define the loss function\n",
        "criterion = nn.BCEWithLogitsLoss()\n",
        "\n",
        "# Define the optimizer\n",
        "optimizer = Adam(model.parameters(), lr=0.001)\n",
        "\n",
        "# Define the learning rate scheduler\n",
        "scheduler = torch.optim.lr_scheduler.StepLR(optimizer, step_size=3, gamma=0.1)\n",
        "\n",
        "# Set the number of training epochs\n",
        "epochs = 5\n",
        "\n",
        "# Initialize lists to store accuracy and loss values for each epoch\n",
        "accuracy_values = []\n",
        "loss_values = []\n",
        "\n",
        "# Start the training loop\n",
        "for epoch in range(epochs):\n",
        "\n",
        "    running_loss = 0.0\n",
        "    overall_accuracy = 0\n",
        "    accuracy_per_label = torch.zeros(len(classes), device=device)\n",
        "\n",
        "    # Iterate over the training data\n",
        "    for i, data in enumerate(trainloader, 0):\n",
        "        inputs, labels = data[0].to(device), data[1].to(device)\n",
        "\n",
        "        # Zero the parameter gradients\n",
        "        optimizer.zero_grad()\n",
        "\n",
        "        # Forward pass\n",
        "        outputs = model(inputs)\n",
        "\n",
        "        # Compute loss\n",
        "        loss = criterion(outputs, labels)\n",
        "\n",
        "        # Backward pass and optimize\n",
        "        loss.backward()\n",
        "        optimizer.step()\n",
        "\n",
        "        # Accumulate loss\n",
        "        running_loss += loss.item()\n",
        "\n",
        "        # Apply sigmoid function and threshold at 0.5 to get predictions\n",
        "        preds = torch.sigmoid(outputs) > 0.5\n",
        "\n",
        "        # Calculate the correct predictions\n",
        "        correct_predictions = (preds == labels).float()\n",
        "\n",
        "        # Calculate the accuracy for each label\n",
        "        accuracy_per_label += correct_predictions.sum(0)/(len(labels))\n",
        "\n",
        "        # Calculate the overall accuracy\n",
        "        overall_accuracy += correct_predictions.sum()/(len(labels)*(len(classes)))\n",
        "\n",
        "    # Calculate the average accuracy for each label\n",
        "    accuracy_per_label /= len(trainloader)\n",
        "\n",
        "    # Calculate the average loss\n",
        "    running_loss /= len(trainloader)\n",
        "\n",
        "    # Calculate the overall average accuracy\n",
        "    overall_accuracy /= len(trainloader)\n",
        "\n",
        "    # Store accuracy and loss values\n",
        "    accuracy_values.append(overall_accuracy.item())\n",
        "    loss_values.append(running_loss)\n",
        "\n",
        "    # Print training statistics after each epoch\n",
        "    print(f'Epoch {epoch+1}/{epochs}:')\n",
        "    print(f'Training Loss: {running_loss:.4f}')\n",
        "    print(f'Total Accuracy: {overall_accuracy*100:.2f}%')\n",
        "    print('Per Class Accuracy:', (accuracy_per_label*100).tolist())\n",
        "\n",
        "# Plot accuracy per epoch\n",
        "plt.figure(figsize=(10, 5))\n",
        "plt.plot(range(1, epochs+1), accuracy_values, label='Accuracy')\n",
        "plt.plot(range(1, epochs+1), loss_values, label='loss')\n",
        "plt.xlabel('Epoch')\n",
        "plt.legend()\n",
        "plt.show()"
      ],
      "metadata": {
        "id": "LDkMnDxoVG3d",
        "colab": {
          "base_uri": "https://localhost:8080/",
          "height": 848
        },
        "outputId": "caca599f-a932-4773-c369-e37849029d7e"
      },
      "execution_count": 36,
      "outputs": [
        {
          "output_type": "stream",
          "name": "stdout",
          "text": [
            "Epoch 1/5:\n",
            "Training Loss: 0.2879\n",
            "Total Accuracy: 90.02%\n",
            "Per Class Accuracy: [95.41699981689453, 81.74761199951172, 94.87957763671875, 82.82245635986328, 94.62579345703125, 92.62042236328125, 91.4311294555664, 78.39370727539062, 98.25338745117188]\n",
            "Epoch 2/5:\n",
            "Training Loss: 0.2514\n",
            "Total Accuracy: 91.77%\n",
            "Per Class Accuracy: [96.07882690429688, 84.69347381591797, 94.81986999511719, 84.19088745117188, 97.53185272216797, 94.62579345703125, 96.29776763916016, 79.46357727050781, 98.23845672607422]\n",
            "Epoch 3/5:\n",
            "Training Loss: 0.2474\n",
            "Total Accuracy: 91.76%\n",
            "Per Class Accuracy: [96.0340347290039, 84.57404327392578, 94.8945083618164, 84.22074127197266, 97.53185272216797, 94.58101654052734, 96.31269836425781, 79.47850036621094, 98.25338745117188]\n",
            "Epoch 4/5:\n",
            "Training Loss: 0.2450\n",
            "Total Accuracy: 91.76%\n",
            "Per Class Accuracy: [96.0340347290039, 84.58399963378906, 94.87957763671875, 84.17595672607422, 97.53185272216797, 94.56608581542969, 96.29776763916016, 79.48348236083984, 98.25338745117188]\n",
            "Epoch 5/5:\n",
            "Training Loss: 0.2410\n",
            "Total Accuracy: 91.75%\n",
            "Per Class Accuracy: [96.0340347290039, 84.53424072265625, 94.8646469116211, 84.14610290527344, 97.50199127197266, 94.62579345703125, 96.31269836425781, 79.44864654541016, 98.23845672607422]\n"
          ]
        },
        {
          "output_type": "display_data",
          "data": {
            "text/plain": [
              "<Figure size 1000x500 with 1 Axes>"
            ],
            "image/png": "[encoded data removed]"
          },
          "metadata": {}
        }
      ]
    },
    {
      "cell_type": "code",
      "source": [
        "# Testing the model\n",
        "with torch.no_grad():\n",
        "\n",
        "    overall_accuracy = 0\n",
        "    accuracy_per_label = torch.zeros(len(classes), device=device)\n",
        "\n",
        "    # Iterate over the test data\n",
        "    for data in testloader:\n",
        "        images, labels = data[0].to(device), data[1].to(device)\n",
        "\n",
        "        # Forward pass\n",
        "        outputs = model(images)\n",
        "\n",
        "        # Apply sigmoid function and threshold at 0.5 to get predictions\n",
        "        preds = torch.sigmoid(outputs) > 0.5\n",
        "\n",
        "        # Calculate the correct predictions\n",
        "        correct_predictions = (preds == labels).float()\n",
        "\n",
        "        # Calculate the accuracy for each label\n",
        "        accuracy_per_label += correct_predictions.sum(0)/(len(labels))\n",
        "\n",
        "        # Calculate the overall accuracy\n",
        "        overall_accuracy += correct_predictions.sum()/(len(labels)*(len(classes)))\n",
        "\n",
        "    # Calculate the average accuracy for each label\n",
        "    accuracy_per_label /= len(testloader)\n",
        "\n",
        "    # Calculate the overall average accuracy\n",
        "    overall_accuracy /= len(testloader)\n",
        "\n",
        "    # Print testing statistics\n",
        "    print(f'Total Accuracy: {overall_accuracy*100:.2f}%')\n",
        "    print('Per Class Accuracy:', (accuracy_per_label*100).tolist())"
      ],
      "metadata": {
        "colab": {
          "base_uri": "https://localhost:8080/"
        },
        "id": "IaseLX9hVGxv",
        "outputId": "37b536de-3dab-4869-dba8-ad3ee6f6087f"
      },
      "execution_count": 37,
      "outputs": [
        {
          "output_type": "stream",
          "name": "stdout",
          "text": [
            "Total Accuracy: 91.34%\n",
            "Per Class Accuracy: [95.23809814453125, 84.52381134033203, 94.39484405517578, 82.93651580810547, 97.37103271484375, 94.74207305908203, 96.08135223388672, 78.5714340209961, 98.16468811035156]\n"
          ]
        }
      ]
    }
  ]
}